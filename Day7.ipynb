{
  "nbformat": 4,
  "nbformat_minor": 0,
  "metadata": {
    "colab": {
      "provenance": [],
      "authorship_tag": "ABX9TyOmiN2vUPGC8riUsND6uJfB",
      "include_colab_link": true
    },
    "kernelspec": {
      "name": "python3",
      "display_name": "Python 3"
    },
    "language_info": {
      "name": "python"
    }
  },
  "cells": [
    {
      "cell_type": "markdown",
      "metadata": {
        "id": "view-in-github",
        "colab_type": "text"
      },
      "source": [
        "<a href=\"https://colab.research.google.com/github/NafeesFathima6464/python_ad/blob/main/Day7.ipynb\" target=\"_parent\"><img src=\"https://colab.research.google.com/assets/colab-badge.svg\" alt=\"Open In Colab\"/></a>"
      ]
    },
    {
      "cell_type": "markdown",
      "source": [
        "#**Control Statement**"
      ],
      "metadata": {
        "id": "szyPRq4SeAB7"
      }
    },
    {
      "cell_type": "code",
      "execution_count": 1,
      "metadata": {
        "colab": {
          "base_uri": "https://localhost:8080/"
        },
        "id": "wiHtfFsPd0vN",
        "outputId": "626c985d-03bd-4336-d1a9-17e1d08ede1f"
      },
      "outputs": [
        {
          "output_type": "stream",
          "name": "stdout",
          "text": [
            "positive\n"
          ]
        }
      ],
      "source": [
        "#wap to know number is positive ,negative, or Zero\n",
        "\n",
        "x=6\n",
        "if x>0:\n",
        "  print(\"positive\")\n",
        "elif x<0:\n",
        "    print(\"negative\")\n",
        "else:\n",
        "    print(\"zero\")"
      ]
    },
    {
      "cell_type": "code",
      "source": [
        "x=int(input())\n",
        "if x>0:\n",
        "  print(\"positive\")\n",
        "elif x<0:\n",
        "    print(\"negative\")\n",
        "else:\n",
        "    print(\"zero\")"
      ],
      "metadata": {
        "colab": {
          "base_uri": "https://localhost:8080/"
        },
        "id": "rDa7jk9OfhUP",
        "outputId": "8e5b72a1-3fb4-4b2c-fa04-8ae3f0c962c2"
      },
      "execution_count": 2,
      "outputs": [
        {
          "output_type": "stream",
          "name": "stdout",
          "text": [
            "-6\n",
            "negative\n"
          ]
        }
      ]
    },
    {
      "cell_type": "code",
      "source": [
        "x= int(input())\n",
        "if x>0:\n",
        "  print(\"positive\")\n",
        "elif x<0:\n",
        "    print(\"negative\")\n",
        "else:\n",
        "    print(\"zero\")"
      ],
      "metadata": {
        "colab": {
          "base_uri": "https://localhost:8080/"
        },
        "id": "ZDS_sDkKgGT7",
        "outputId": "84dd1fa9-a9c1-4114-c832-f9061bcbafa1"
      },
      "execution_count": 5,
      "outputs": [
        {
          "output_type": "stream",
          "name": "stdout",
          "text": [
            "0\n",
            "zero\n"
          ]
        }
      ]
    },
    {
      "cell_type": "code",
      "source": [],
      "metadata": {
        "id": "-hw-S_rsgMTw"
      },
      "execution_count": 5,
      "outputs": []
    },
    {
      "cell_type": "code",
      "source": [
        "x=int(input())\n",
        "if x>5:\n",
        "  print(\"M\")\n",
        "elif x<10:\n",
        "    print(\"N\")\n",
        "else:\n",
        "    print(\"o\")"
      ],
      "metadata": {
        "colab": {
          "base_uri": "https://localhost:8080/"
        },
        "id": "G4wFz1bDgMuB",
        "outputId": "35dae25d-ca60-49ed-8893-cc1f84256aa7"
      },
      "execution_count": 6,
      "outputs": [
        {
          "output_type": "stream",
          "name": "stdout",
          "text": [
            "15\n",
            "M\n"
          ]
        }
      ]
    },
    {
      "cell_type": "code",
      "source": [
        "x=int(input())\n",
        "if x>5:\n",
        "  print(\"M\")\n",
        "elif x<10:\n",
        "    print(\"N\")\n",
        "else:\n",
        "    print(\"o\")"
      ],
      "metadata": {
        "colab": {
          "base_uri": "https://localhost:8080/"
        },
        "id": "gJqRn7tygzBp",
        "outputId": "0cf711c6-6796-439c-8b70-435aa12a9088"
      },
      "execution_count": 7,
      "outputs": [
        {
          "output_type": "stream",
          "name": "stdout",
          "text": [
            "7\n",
            "M\n"
          ]
        }
      ]
    },
    {
      "cell_type": "code",
      "source": [
        "a = input()\n",
        "if a[0] == 't' or a[0] == 'T':\n",
        "  print(\"yes\")\n",
        "else:\n",
        "  print(\"no\")"
      ],
      "metadata": {
        "colab": {
          "base_uri": "https://localhost:8080/"
        },
        "id": "Rq6LKVCTg5of",
        "outputId": "50c16e23-13b0-4bf9-9a4f-bfe45e64a798"
      },
      "execution_count": 8,
      "outputs": [
        {
          "output_type": "stream",
          "name": "stdout",
          "text": [
            "tiger\n",
            "yes\n"
          ]
        }
      ]
    },
    {
      "cell_type": "code",
      "source": [
        "a = input()\n",
        "if a[0] == 't' or a[0] == 'T':\n",
        "  print(\"yes\")\n",
        "else:\n",
        "  print(\"no\")"
      ],
      "metadata": {
        "colab": {
          "base_uri": "https://localhost:8080/"
        },
        "id": "24WG0kkvlFZH",
        "outputId": "3648babd-9002-41f1-ea14-29af7cd13b93"
      },
      "execution_count": 9,
      "outputs": [
        {
          "output_type": "stream",
          "name": "stdout",
          "text": [
            "nafees\n",
            "no\n"
          ]
        }
      ]
    },
    {
      "cell_type": "code",
      "source": [
        "a = 'tiger'\n",
        "if a[0] == 't' or a[0] == 'T':\n",
        "  print(\"yes\")\n",
        "else:\n",
        "  print(\"no\")"
      ],
      "metadata": {
        "colab": {
          "base_uri": "https://localhost:8080/"
        },
        "id": "cunPfiqKlQFc",
        "outputId": "6020b7a5-f720-40ad-ff32-8c1aac6c2647"
      },
      "execution_count": 10,
      "outputs": [
        {
          "output_type": "stream",
          "name": "stdout",
          "text": [
            "yes\n"
          ]
        }
      ]
    },
    {
      "cell_type": "code",
      "source": [
        "y = 'sunny'\n",
        "if y[0] == 't' or y[0] == 'T':\n",
        "  print(\"yes\")\n",
        "else:\n",
        "  print(\"no\")"
      ],
      "metadata": {
        "colab": {
          "base_uri": "https://localhost:8080/"
        },
        "id": "aaxqKLbsldFe",
        "outputId": "428af7c6-7ba1-4224-fef5-7901e1d5a6f2"
      },
      "execution_count": 18,
      "outputs": [
        {
          "output_type": "stream",
          "name": "stdout",
          "text": [
            "no\n"
          ]
        }
      ]
    },
    {
      "cell_type": "code",
      "source": [
        "A ='hyderabad'\n",
        "if A[0].lower() == 'h' or  A[0].lower() == 's' or A[0].lower() == 'm':\n",
        "  print(\"yes\")\n",
        "else:\n",
        "  print(\"no\")"
      ],
      "metadata": {
        "colab": {
          "base_uri": "https://localhost:8080/"
        },
        "id": "_IC6CJcFlfeY",
        "outputId": "a9d94a36-0673-49ba-b8b1-fe33b1eeca03"
      },
      "execution_count": 23,
      "outputs": [
        {
          "output_type": "stream",
          "name": "stdout",
          "text": [
            "yes\n"
          ]
        }
      ]
    },
    {
      "cell_type": "code",
      "source": [
        "A =input()\n",
        "if A[0].lower() in ('s','h','m'):\n",
        "  print(\"yes\")\n",
        "else:\n",
        "  print(\"no\")"
      ],
      "metadata": {
        "colab": {
          "base_uri": "https://localhost:8080/"
        },
        "id": "6ZUWc-eRlhMG",
        "outputId": "cff523e3-007d-49c8-80c0-ccf17c99ea92"
      },
      "execution_count": 25,
      "outputs": [
        {
          "output_type": "stream",
          "name": "stdout",
          "text": [
            "nikki\n",
            "no\n"
          ]
        }
      ]
    },
    {
      "cell_type": "code",
      "source": [],
      "metadata": {
        "id": "Yy3edq9ZmFEW"
      },
      "execution_count": 25,
      "outputs": []
    }
  ]
}