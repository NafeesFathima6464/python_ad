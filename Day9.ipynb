{
  "nbformat": 4,
  "nbformat_minor": 0,
  "metadata": {
    "colab": {
      "provenance": [],
      "authorship_tag": "ABX9TyOGySVhJMTXxQhyGoZi3Kf4",
      "include_colab_link": true
    },
    "kernelspec": {
      "name": "python3",
      "display_name": "Python 3"
    },
    "language_info": {
      "name": "python"
    }
  },
  "cells": [
    {
      "cell_type": "markdown",
      "metadata": {
        "id": "view-in-github",
        "colab_type": "text"
      },
      "source": [
        "<a href=\"https://colab.research.google.com/github/NafeesFathima6464/python_ad/blob/main/Day9.ipynb\" target=\"_parent\"><img src=\"https://colab.research.google.com/assets/colab-badge.svg\" alt=\"Open In Colab\"/></a>"
      ]
    },
    {
      "cell_type": "markdown",
      "source": [
        "\n",
        "\n"
      ],
      "metadata": {
        "id": "8r0E615Vi5Y3"
      }
    },
    {
      "cell_type": "markdown",
      "source": [
        "# format\n",
        "def functionname(parameter):\n",
        "\n",
        "  block of code\n",
        "\n",
        "  return output"
      ],
      "metadata": {
        "id": "HpyIeHdijCGF"
      }
    },
    {
      "cell_type": "code",
      "source": [
        "def calArea(r):\n",
        "  area=3.14*r*r\n",
        "  return area\n"
      ],
      "metadata": {
        "id": "wYWsD6tci1Al"
      },
      "execution_count": 2,
      "outputs": []
    },
    {
      "cell_type": "code",
      "source": [
        "calArea(r=20)"
      ],
      "metadata": {
        "colab": {
          "base_uri": "https://localhost:8080/"
        },
        "id": "1zPAV5rPjcbc",
        "outputId": "8a9ed74c-153a-4fb5-8b6e-0c4fb2ae8710"
      },
      "execution_count": 5,
      "outputs": [
        {
          "output_type": "execute_result",
          "data": {
            "text/plain": [
              "1256.0"
            ]
          },
          "metadata": {},
          "execution_count": 5
        }
      ]
    },
    {
      "cell_type": "code",
      "source": [
        "type(calArea(r=20))"
      ],
      "metadata": {
        "colab": {
          "base_uri": "https://localhost:8080/"
        },
        "id": "DptWpYzVjgid",
        "outputId": "0da7f290-326e-477f-9f3b-3a25440c61bc"
      },
      "execution_count": 8,
      "outputs": [
        {
          "output_type": "execute_result",
          "data": {
            "text/plain": [
              "float"
            ]
          },
          "metadata": {},
          "execution_count": 8
        }
      ]
    },
    {
      "cell_type": "code",
      "source": [
        "def calArea(r):\n",
        "  area=3.14*r*r\n",
        "  print(area)\n"
      ],
      "metadata": {
        "id": "J0HLREHsjotm"
      },
      "execution_count": 9,
      "outputs": []
    },
    {
      "cell_type": "code",
      "source": [
        "n=calArea(r=5)"
      ],
      "metadata": {
        "colab": {
          "base_uri": "https://localhost:8080/"
        },
        "id": "qlNfLEmskbCr",
        "outputId": "5812bf92-01a2-40aa-eda6-5d5b7d1f190d"
      },
      "execution_count": 11,
      "outputs": [
        {
          "output_type": "stream",
          "name": "stdout",
          "text": [
            "78.5\n"
          ]
        }
      ]
    },
    {
      "cell_type": "code",
      "source": [
        "type(n)"
      ],
      "metadata": {
        "colab": {
          "base_uri": "https://localhost:8080/"
        },
        "id": "ic4ub4tNkftZ",
        "outputId": "4c684a24-d56e-453a-e135-debd1a5efd76"
      },
      "execution_count": 12,
      "outputs": [
        {
          "output_type": "execute_result",
          "data": {
            "text/plain": [
              "NoneType"
            ]
          },
          "metadata": {},
          "execution_count": 12
        }
      ]
    },
    {
      "cell_type": "code",
      "source": [
        "#use always return key word for getting statement dont use print because if u use return it will show data type but print will not show the data type.it will show none type and also not perform operations"
      ],
      "metadata": {
        "id": "TbRCib02kjuH"
      },
      "execution_count": 14,
      "outputs": []
    },
    {
      "cell_type": "code",
      "source": [
        "def recArea(l,b):\n",
        "  area=l*b\n",
        "  return area"
      ],
      "metadata": {
        "id": "fuMI8U1imEJS"
      },
      "execution_count": 15,
      "outputs": []
    },
    {
      "cell_type": "code",
      "source": [
        "recArea(l=10,b=20)"
      ],
      "metadata": {
        "colab": {
          "base_uri": "https://localhost:8080/"
        },
        "id": "WgNc05YUmJha",
        "outputId": "a93015e5-f217-44d4-e6c2-78ea2531c5ba"
      },
      "execution_count": 16,
      "outputs": [
        {
          "output_type": "execute_result",
          "data": {
            "text/plain": [
              "200"
            ]
          },
          "metadata": {},
          "execution_count": 16
        }
      ]
    },
    {
      "cell_type": "code",
      "source": [
        "def area(r,l,b):\n",
        "  area1=3.14*r*r\n",
        "  area2=l*b\n",
        "  return area1,area2"
      ],
      "metadata": {
        "id": "7CcsCZx-mL8Z"
      },
      "execution_count": 17,
      "outputs": []
    },
    {
      "cell_type": "code",
      "source": [
        "area(2,5,4)"
      ],
      "metadata": {
        "colab": {
          "base_uri": "https://localhost:8080/"
        },
        "id": "FjG2Psi3oDK3",
        "outputId": "b2d0d5f2-cd16-4d34-c01b-c10f3b66c532"
      },
      "execution_count": 18,
      "outputs": [
        {
          "output_type": "execute_result",
          "data": {
            "text/plain": [
              "(12.56, 20)"
            ]
          },
          "metadata": {},
          "execution_count": 18
        }
      ]
    },
    {
      "cell_type": "code",
      "source": [
        "def area(r,l,b):\n",
        "  area1=3.14*r*r\n",
        "  area2=l*b\n",
        "  return [area1,area2]"
      ],
      "metadata": {
        "id": "ce_sWvW9oGbu"
      },
      "execution_count": 19,
      "outputs": []
    },
    {
      "cell_type": "code",
      "source": [
        "area(2,5,6)"
      ],
      "metadata": {
        "colab": {
          "base_uri": "https://localhost:8080/"
        },
        "id": "SUvHDehxpEim",
        "outputId": "4270ee95-bc53-437d-92d7-57665c6c47d7"
      },
      "execution_count": 21,
      "outputs": [
        {
          "output_type": "execute_result",
          "data": {
            "text/plain": [
              "[12.56, 30]"
            ]
          },
          "metadata": {},
          "execution_count": 21
        }
      ]
    },
    {
      "cell_type": "code",
      "source": [
        "def area(r,l,b):\n",
        "  area1=3.14*r*r\n",
        "  area2=l*b\n",
        "  return {'AOC':area1,'AOR':area2}"
      ],
      "metadata": {
        "id": "LGd5gcLUpGXw"
      },
      "execution_count": 23,
      "outputs": []
    },
    {
      "cell_type": "code",
      "source": [
        "area(2,5,4)"
      ],
      "metadata": {
        "colab": {
          "base_uri": "https://localhost:8080/"
        },
        "id": "8-FR1ZKhpOSx",
        "outputId": "7239f453-d0c4-4919-e537-c31779baaae5"
      },
      "execution_count": 24,
      "outputs": [
        {
          "output_type": "execute_result",
          "data": {
            "text/plain": [
              "{'AOC': 12.56, 'AOR': 20}"
            ]
          },
          "metadata": {},
          "execution_count": 24
        }
      ]
    },
    {
      "cell_type": "code",
      "source": [
        "def Count(t):\n",
        "  c=t.lower()\n",
        "  return c.count('a')"
      ],
      "metadata": {
        "id": "GA5Xq84fpR5n"
      },
      "execution_count": 38,
      "outputs": []
    },
    {
      "cell_type": "code",
      "source": [
        "Count('Hyderabad')"
      ],
      "metadata": {
        "colab": {
          "base_uri": "https://localhost:8080/"
        },
        "id": "d_hdxpcJqKfX",
        "outputId": "af3c9a51-605c-425b-bc92-991c5bcded80"
      },
      "execution_count": 39,
      "outputs": [
        {
          "output_type": "execute_result",
          "data": {
            "text/plain": [
              "2"
            ]
          },
          "metadata": {},
          "execution_count": 39
        }
      ]
    },
    {
      "cell_type": "code",
      "source": [
        "def Count_num_alpha(x):\n",
        "  c=0\n",
        "  d=0\n",
        "  for i in x:\n",
        "    if i.isalpha():\n",
        "      c+=1\n",
        "    elif i.isnumeric():\n",
        "      d+=1\n",
        "  return c,d"
      ],
      "metadata": {
        "id": "hxnZrBmrqdIP"
      },
      "execution_count": 53,
      "outputs": []
    },
    {
      "cell_type": "code",
      "source": [
        "Count_num_alpha('Hyderabad 500008 Telangana')"
      ],
      "metadata": {
        "colab": {
          "base_uri": "https://localhost:8080/"
        },
        "id": "UeVZebD5s8FL",
        "outputId": "01ea5ff4-4f66-4e6c-bb49-a80888659657"
      },
      "execution_count": 55,
      "outputs": [
        {
          "output_type": "execute_result",
          "data": {
            "text/plain": [
              "(18, 6)"
            ]
          },
          "metadata": {},
          "execution_count": 55
        }
      ]
    },
    {
      "cell_type": "code",
      "source": [],
      "metadata": {
        "id": "D8HZ8M-ktApi"
      },
      "execution_count": null,
      "outputs": []
    }
  ]
}