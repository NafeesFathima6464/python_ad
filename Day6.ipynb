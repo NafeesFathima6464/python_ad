{
  "nbformat": 4,
  "nbformat_minor": 0,
  "metadata": {
    "colab": {
      "provenance": [],
      "authorship_tag": "ABX9TyPY+CGIhl4NFYqR6J96wsSg",
      "include_colab_link": true
    },
    "kernelspec": {
      "name": "python3",
      "display_name": "Python 3"
    },
    "language_info": {
      "name": "python"
    }
  },
  "cells": [
    {
      "cell_type": "markdown",
      "metadata": {
        "id": "view-in-github",
        "colab_type": "text"
      },
      "source": [
        "<a href=\"https://colab.research.google.com/github/NafeesFathima6464/python_ad/blob/main/Day6.ipynb\" target=\"_parent\"><img src=\"https://colab.research.google.com/assets/colab-badge.svg\" alt=\"Open In Colab\"/></a>"
      ]
    },
    {
      "cell_type": "markdown",
      "source": [
        "\n",
        "**Dictionary**"
      ],
      "metadata": {
        "id": "X5GxrwvuV_tG"
      }
    },
    {
      "cell_type": "code",
      "execution_count": null,
      "metadata": {
        "colab": {
          "base_uri": "https://localhost:8080/"
        },
        "id": "XdDbDfX-V6dR",
        "outputId": "b08ac382-bc22-4066-8536-0ca9c66be0f6"
      },
      "outputs": [
        {
          "output_type": "execute_result",
          "data": {
            "text/plain": [
              "{101: 24, 2: 456, 4: 'nafees', 6: 46.24}"
            ]
          },
          "metadata": {},
          "execution_count": 1
        }
      ],
      "source": [
        "d={101:24,2:456,4:\"nafees\",6:46.24}\n",
        "d"
      ]
    },
    {
      "cell_type": "code",
      "source": [
        "d.update({6:64.24})\n",
        "d"
      ],
      "metadata": {
        "colab": {
          "base_uri": "https://localhost:8080/"
        },
        "id": "8cEvKjlJXoAg",
        "outputId": "60b5a2e2-f160-4e6e-e197-c342e8bcca49"
      },
      "execution_count": null,
      "outputs": [
        {
          "output_type": "execute_result",
          "data": {
            "text/plain": [
              "{101: 24, 2: 456, 4: 'nafees', 6: 64.24}"
            ]
          },
          "metadata": {},
          "execution_count": 5
        }
      ]
    },
    {
      "cell_type": "code",
      "source": [
        "d[101]=\"ambulance\""
      ],
      "metadata": {
        "id": "ghU-UBMUXyDF"
      },
      "execution_count": null,
      "outputs": []
    },
    {
      "cell_type": "code",
      "source": [
        "d"
      ],
      "metadata": {
        "colab": {
          "base_uri": "https://localhost:8080/"
        },
        "id": "zv5bAWdmYrmf",
        "outputId": "02ebbe46-6ed1-48da-87fe-3ba6f7e77cb2"
      },
      "execution_count": null,
      "outputs": [
        {
          "output_type": "execute_result",
          "data": {
            "text/plain": [
              "{101: 'ambulance', 2: 456, 4: 'nafees', 6: 64.24}"
            ]
          },
          "metadata": {},
          "execution_count": 8
        }
      ]
    },
    {
      "cell_type": "code",
      "source": [
        "d.get(4)"
      ],
      "metadata": {
        "colab": {
          "base_uri": "https://localhost:8080/",
          "height": 35
        },
        "id": "NtGjmLDCYvpi",
        "outputId": "77eeea88-98a6-4460-ea47-1b98311095a5"
      },
      "execution_count": null,
      "outputs": [
        {
          "output_type": "execute_result",
          "data": {
            "text/plain": [
              "'nafees'"
            ],
            "application/vnd.google.colaboratory.intrinsic+json": {
              "type": "string"
            }
          },
          "metadata": {},
          "execution_count": 9
        }
      ]
    },
    {
      "cell_type": "code",
      "source": [
        "d.update({4:\"Fathima\"})"
      ],
      "metadata": {
        "id": "OIuycozWZKWx"
      },
      "execution_count": null,
      "outputs": []
    },
    {
      "cell_type": "code",
      "source": [
        "d"
      ],
      "metadata": {
        "colab": {
          "base_uri": "https://localhost:8080/"
        },
        "id": "f7tgbTu-ZZv4",
        "outputId": "fab54914-f1e5-449a-bf7d-f63e5e88adfd"
      },
      "execution_count": null,
      "outputs": [
        {
          "output_type": "execute_result",
          "data": {
            "text/plain": [
              "{101: 'ambulance', 2: 456, 4: 'Fathima', 6: 64.24}"
            ]
          },
          "metadata": {},
          "execution_count": 11
        }
      ]
    },
    {
      "cell_type": "code",
      "source": [
        "d.update({64:\"Fathima\"})#dictionaries allows duplicate values"
      ],
      "metadata": {
        "id": "STDdphsZZacq"
      },
      "execution_count": null,
      "outputs": []
    },
    {
      "cell_type": "code",
      "source": [
        "print(d)"
      ],
      "metadata": {
        "colab": {
          "base_uri": "https://localhost:8080/"
        },
        "id": "nGXYFYM1ZoLc",
        "outputId": "3c045200-6ea1-4e57-b192-092fe4191c1e"
      },
      "execution_count": null,
      "outputs": [
        {
          "output_type": "stream",
          "name": "stdout",
          "text": [
            "{101: 'ambulance', 2: 456, 4: 'Fathima', 6: 'Fathima', 100: 'century', 64: 'Fathima'}\n"
          ]
        }
      ]
    },
    {
      "cell_type": "code",
      "source": [
        "d.update({100:\"century\"})"
      ],
      "metadata": {
        "id": "5KurkoHZZp3U"
      },
      "execution_count": null,
      "outputs": []
    },
    {
      "cell_type": "code",
      "source": [
        "d"
      ],
      "metadata": {
        "colab": {
          "base_uri": "https://localhost:8080/"
        },
        "id": "dJROY8IWZ3s0",
        "outputId": "da4186ce-4538-49a8-ad23-0d9b7d1dbcc1"
      },
      "execution_count": null,
      "outputs": [
        {
          "output_type": "execute_result",
          "data": {
            "text/plain": [
              "{101: 'ambulance', 2: 456, 4: 'Fathima', 6: 'Fathima', 100: 'century'}"
            ]
          },
          "metadata": {},
          "execution_count": 15
        }
      ]
    },
    {
      "cell_type": "code",
      "source": [
        "d.get(\"Fathima\")"
      ],
      "metadata": {
        "id": "yvRzSuIEZ4GO"
      },
      "execution_count": null,
      "outputs": []
    },
    {
      "cell_type": "code",
      "source": [
        "d"
      ],
      "metadata": {
        "colab": {
          "base_uri": "https://localhost:8080/"
        },
        "id": "EJKdMdlLaPda",
        "outputId": "e925ac51-365c-47ad-e8ee-930e46e8ada7"
      },
      "execution_count": null,
      "outputs": [
        {
          "output_type": "execute_result",
          "data": {
            "text/plain": [
              "{101: 'ambulance', 2: 456, 4: 'Fathima', 6: 'Fathima', 100: 'century'}"
            ]
          },
          "metadata": {},
          "execution_count": 17
        }
      ]
    },
    {
      "cell_type": "code",
      "source": [
        "del d[101]"
      ],
      "metadata": {
        "id": "ZmK8e3Q1aQ2_"
      },
      "execution_count": null,
      "outputs": []
    },
    {
      "cell_type": "code",
      "source": [
        "d"
      ],
      "metadata": {
        "colab": {
          "base_uri": "https://localhost:8080/"
        },
        "id": "IzqdprzObTrM",
        "outputId": "226930d1-58fd-4d4f-c9d3-102615fae627"
      },
      "execution_count": null,
      "outputs": [
        {
          "output_type": "execute_result",
          "data": {
            "text/plain": [
              "{2: 456, 4: 'Fathima', 6: 'Fathima', 100: 'century', 64: 'Fathima'}"
            ]
          },
          "metadata": {},
          "execution_count": 23
        }
      ]
    },
    {
      "cell_type": "code",
      "source": [
        "del d[100]"
      ],
      "metadata": {
        "id": "bwSanwdRbUUU"
      },
      "execution_count": null,
      "outputs": []
    },
    {
      "cell_type": "code",
      "source": [
        "d"
      ],
      "metadata": {
        "colab": {
          "base_uri": "https://localhost:8080/"
        },
        "id": "La_ZpV83bWaN",
        "outputId": "e41a874e-ef56-40b3-c73a-fe6f0c11b8c8"
      },
      "execution_count": null,
      "outputs": [
        {
          "output_type": "execute_result",
          "data": {
            "text/plain": [
              "{2: 456, 4: 'Fathima', 6: 'Fathima', 64: 'Fathima'}"
            ]
          },
          "metadata": {},
          "execution_count": 27
        }
      ]
    },
    {
      "cell_type": "code",
      "source": [
        "d.update({2:[512,465,459,476,489,456]})"
      ],
      "metadata": {
        "id": "C1pVLBYabcUZ"
      },
      "execution_count": null,
      "outputs": []
    },
    {
      "cell_type": "code",
      "source": [
        "d"
      ],
      "metadata": {
        "colab": {
          "base_uri": "https://localhost:8080/"
        },
        "id": "MxMASiP6cjhV",
        "outputId": "4a60d97f-18a9-4b72-fde3-c105cbcdaec9"
      },
      "execution_count": null,
      "outputs": [
        {
          "output_type": "execute_result",
          "data": {
            "text/plain": [
              "{2: [512, 465, 459, 476, 489, 456], 4: 'Fathima', 6: 'Fathima', 64: 'Fathima'}"
            ]
          },
          "metadata": {},
          "execution_count": 29
        }
      ]
    },
    {
      "cell_type": "code",
      "source": [
        "d.get(2)"
      ],
      "metadata": {
        "colab": {
          "base_uri": "https://localhost:8080/"
        },
        "id": "sNmPuoAGckAR",
        "outputId": "ab46e743-a799-4391-8cc8-5281346e2324"
      },
      "execution_count": null,
      "outputs": [
        {
          "output_type": "execute_result",
          "data": {
            "text/plain": [
              "[512, 465, 459, 476, 489, 456]"
            ]
          },
          "metadata": {},
          "execution_count": 30
        }
      ]
    },
    {
      "cell_type": "code",
      "source": [
        "type(d)"
      ],
      "metadata": {
        "colab": {
          "base_uri": "https://localhost:8080/"
        },
        "id": "7mwfeoh2cpTn",
        "outputId": "03df3dbc-b903-4990-e829-46c94847afd1"
      },
      "execution_count": null,
      "outputs": [
        {
          "output_type": "execute_result",
          "data": {
            "text/plain": [
              "dict"
            ]
          },
          "metadata": {},
          "execution_count": 31
        }
      ]
    },
    {
      "cell_type": "code",
      "source": [
        "type(d[2])"
      ],
      "metadata": {
        "colab": {
          "base_uri": "https://localhost:8080/"
        },
        "id": "3I66aPO_dDoT",
        "outputId": "ea77fe3c-535a-455d-e598-ce92cfb6f2b6"
      },
      "execution_count": null,
      "outputs": [
        {
          "output_type": "execute_result",
          "data": {
            "text/plain": [
              "list"
            ]
          },
          "metadata": {},
          "execution_count": 32
        }
      ]
    },
    {
      "cell_type": "code",
      "source": [
        "type(d[4])"
      ],
      "metadata": {
        "colab": {
          "base_uri": "https://localhost:8080/"
        },
        "id": "X2nKWFgidKph",
        "outputId": "0bd32fa9-9ab4-478f-f592-b0e969c1b86a"
      },
      "execution_count": null,
      "outputs": [
        {
          "output_type": "execute_result",
          "data": {
            "text/plain": [
              "str"
            ]
          },
          "metadata": {},
          "execution_count": 33
        }
      ]
    },
    {
      "cell_type": "code",
      "source": [
        "d.update({16:46})"
      ],
      "metadata": {
        "id": "ankossOUdPcE"
      },
      "execution_count": null,
      "outputs": []
    },
    {
      "cell_type": "code",
      "source": [
        "d"
      ],
      "metadata": {
        "colab": {
          "base_uri": "https://localhost:8080/"
        },
        "id": "gSelWJRxdXdY",
        "outputId": "70f9e4ca-0941-436c-fcd7-8d4cd878e3db"
      },
      "execution_count": null,
      "outputs": [
        {
          "output_type": "execute_result",
          "data": {
            "text/plain": [
              "{2: [512, 465, 459, 476, 489, 456],\n",
              " 4: 'Fathima',\n",
              " 6: 'Fathima',\n",
              " 64: 'Fathima',\n",
              " 16: 46}"
            ]
          },
          "metadata": {},
          "execution_count": 35
        }
      ]
    },
    {
      "cell_type": "code",
      "source": [
        "print(d)"
      ],
      "metadata": {
        "colab": {
          "base_uri": "https://localhost:8080/"
        },
        "id": "zcAWngqWdY7h",
        "outputId": "0ae17e40-3d38-426b-b909-296270ee54f8"
      },
      "execution_count": null,
      "outputs": [
        {
          "output_type": "stream",
          "name": "stdout",
          "text": [
            "{2: [512, 465, 459, 476, 489, 456], 4: 'Fathima', 6: 'Fathima', 64: 'Fathima', 16: 46}\n"
          ]
        }
      ]
    },
    {
      "cell_type": "code",
      "source": [
        "type(d[16])"
      ],
      "metadata": {
        "colab": {
          "base_uri": "https://localhost:8080/"
        },
        "id": "ef4sr-8PdbZV",
        "outputId": "91852660-9b9b-4111-fcd5-f3ac479ebdeb"
      },
      "execution_count": null,
      "outputs": [
        {
          "output_type": "execute_result",
          "data": {
            "text/plain": [
              "int"
            ]
          },
          "metadata": {},
          "execution_count": 37
        }
      ]
    },
    {
      "cell_type": "code",
      "source": [
        "d[4]={4:(\"apple\",\"banana\",\"grapes\"),'c':['a',{'b':[12,24],'d':[46,64],'n':[10,22]},'m']}"
      ],
      "metadata": {
        "id": "C3j3gRY5de9z"
      },
      "execution_count": null,
      "outputs": []
    },
    {
      "cell_type": "code",
      "source": [
        "d"
      ],
      "metadata": {
        "colab": {
          "base_uri": "https://localhost:8080/"
        },
        "id": "jn2QNgg7gRhP",
        "outputId": "3d7b54dc-5324-4d09-8326-88d1045f6907"
      },
      "execution_count": null,
      "outputs": [
        {
          "output_type": "execute_result",
          "data": {
            "text/plain": [
              "{2: [512, 465, 459, 476, 489, 456],\n",
              " 4: {4: ('apple', 'banana', 'grapes'),\n",
              "  'c': ['a', {'b': [12, 24], 'd': [46, 64], 'n': [10, 22]}, 'm']},\n",
              " 6: 'Fathima',\n",
              " 64: 'Fathima',\n",
              " 16: 46}"
            ]
          },
          "metadata": {},
          "execution_count": 56
        }
      ]
    },
    {
      "cell_type": "code",
      "source": [
        "d[4]['c'][1]['n'][0]"
      ],
      "metadata": {
        "colab": {
          "base_uri": "https://localhost:8080/"
        },
        "id": "zQ7VeczGhTds",
        "outputId": "08477ad3-6106-4a26-ecaa-078363e3d4ce"
      },
      "execution_count": null,
      "outputs": [
        {
          "output_type": "execute_result",
          "data": {
            "text/plain": [
              "10"
            ]
          },
          "metadata": {},
          "execution_count": 64
        }
      ]
    },
    {
      "cell_type": "code",
      "source": [
        "d[4][4][2]"
      ],
      "metadata": {
        "colab": {
          "base_uri": "https://localhost:8080/",
          "height": 35
        },
        "id": "9UOVAlQRjTFH",
        "outputId": "e6221ee7-7ae4-4983-fd3c-5b2909394076"
      },
      "execution_count": null,
      "outputs": [
        {
          "output_type": "execute_result",
          "data": {
            "text/plain": [
              "'grapes'"
            ],
            "application/vnd.google.colaboratory.intrinsic+json": {
              "type": "string"
            }
          },
          "metadata": {},
          "execution_count": 60
        }
      ]
    },
    {
      "cell_type": "code",
      "source": [
        "d[16]"
      ],
      "metadata": {
        "colab": {
          "base_uri": "https://localhost:8080/"
        },
        "id": "q0PKQAnMj6tT",
        "outputId": "476caec5-5e29-4a18-f05f-e970af5e51af"
      },
      "execution_count": null,
      "outputs": [
        {
          "output_type": "execute_result",
          "data": {
            "text/plain": [
              "46"
            ]
          },
          "metadata": {},
          "execution_count": 65
        }
      ]
    },
    {
      "cell_type": "code",
      "source": [
        "d[2][5]"
      ],
      "metadata": {
        "colab": {
          "base_uri": "https://localhost:8080/"
        },
        "id": "jONg7qBBkLyc",
        "outputId": "4eb1ef5a-3e0a-4fad-8053-6ad14faa5d15"
      },
      "execution_count": null,
      "outputs": [
        {
          "output_type": "execute_result",
          "data": {
            "text/plain": [
              "456"
            ]
          },
          "metadata": {},
          "execution_count": 66
        }
      ]
    },
    {
      "cell_type": "code",
      "source": [],
      "metadata": {
        "id": "JsRu_ydlkQaf"
      },
      "execution_count": null,
      "outputs": []
    }
  ]
}